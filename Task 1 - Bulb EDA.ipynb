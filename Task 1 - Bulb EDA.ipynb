{
 "cells": [
  {
   "cell_type": "markdown",
   "metadata": {},
   "source": [
    "## Import Libraries"
   ]
  },
  {
   "cell_type": "code",
   "execution_count": 95,
   "metadata": {},
   "outputs": [],
   "source": [
    "import pandas as pd\n",
    "import seaborn as sb\n",
    "import matplotlib.pyplot as plt\n",
    "%matplotlib inline"
   ]
  },
  {
   "cell_type": "markdown",
   "metadata": {},
   "source": [
    "## Read dataframe"
   ]
  },
  {
   "cell_type": "code",
   "execution_count": 96,
   "metadata": {},
   "outputs": [
    {
     "data": {
      "text/html": [
       "<div>\n",
       "<style scoped>\n",
       "    .dataframe tbody tr th:only-of-type {\n",
       "        vertical-align: middle;\n",
       "    }\n",
       "\n",
       "    .dataframe tbody tr th {\n",
       "        vertical-align: top;\n",
       "    }\n",
       "\n",
       "    .dataframe thead th {\n",
       "        text-align: right;\n",
       "    }\n",
       "</style>\n",
       "<table border=\"1\" class=\"dataframe\">\n",
       "  <thead>\n",
       "    <tr style=\"text-align: right;\">\n",
       "      <th></th>\n",
       "      <th>Unnamed: 0</th>\n",
       "      <th>id</th>\n",
       "      <th>place of manufacture</th>\n",
       "      <th>watt</th>\n",
       "      <th>price</th>\n",
       "      <th>hours worked</th>\n",
       "    </tr>\n",
       "  </thead>\n",
       "  <tbody>\n",
       "    <tr>\n",
       "      <th>0</th>\n",
       "      <td>0</td>\n",
       "      <td>23261</td>\n",
       "      <td>Japan</td>\n",
       "      <td>50</td>\n",
       "      <td>70</td>\n",
       "      <td>969</td>\n",
       "    </tr>\n",
       "    <tr>\n",
       "      <th>1</th>\n",
       "      <td>1</td>\n",
       "      <td>17185</td>\n",
       "      <td>Japan</td>\n",
       "      <td>50</td>\n",
       "      <td>95</td>\n",
       "      <td>933</td>\n",
       "    </tr>\n",
       "    <tr>\n",
       "      <th>2</th>\n",
       "      <td>2</td>\n",
       "      <td>15607</td>\n",
       "      <td>Japan</td>\n",
       "      <td>200</td>\n",
       "      <td>160</td>\n",
       "      <td>1506</td>\n",
       "    </tr>\n",
       "    <tr>\n",
       "      <th>3</th>\n",
       "      <td>3</td>\n",
       "      <td>15744</td>\n",
       "      <td>India</td>\n",
       "      <td>50</td>\n",
       "      <td>95</td>\n",
       "      <td>885</td>\n",
       "    </tr>\n",
       "    <tr>\n",
       "      <th>4</th>\n",
       "      <td>4</td>\n",
       "      <td>22002</td>\n",
       "      <td>Japan</td>\n",
       "      <td>200</td>\n",
       "      <td>160</td>\n",
       "      <td>1532</td>\n",
       "    </tr>\n",
       "    <tr>\n",
       "      <th>5</th>\n",
       "      <td>5</td>\n",
       "      <td>25478</td>\n",
       "      <td>India</td>\n",
       "      <td>200</td>\n",
       "      <td>160</td>\n",
       "      <td>1809</td>\n",
       "    </tr>\n",
       "    <tr>\n",
       "      <th>6</th>\n",
       "      <td>6</td>\n",
       "      <td>20131</td>\n",
       "      <td>India</td>\n",
       "      <td>50</td>\n",
       "      <td>95</td>\n",
       "      <td>968</td>\n",
       "    </tr>\n",
       "    <tr>\n",
       "      <th>7</th>\n",
       "      <td>7</td>\n",
       "      <td>18098</td>\n",
       "      <td>South Korea</td>\n",
       "      <td>100</td>\n",
       "      <td>130</td>\n",
       "      <td>1039</td>\n",
       "    </tr>\n",
       "    <tr>\n",
       "      <th>8</th>\n",
       "      <td>8</td>\n",
       "      <td>28228</td>\n",
       "      <td>India</td>\n",
       "      <td>50</td>\n",
       "      <td>70</td>\n",
       "      <td>763</td>\n",
       "    </tr>\n",
       "    <tr>\n",
       "      <th>9</th>\n",
       "      <td>9</td>\n",
       "      <td>20791</td>\n",
       "      <td>India</td>\n",
       "      <td>50</td>\n",
       "      <td>70</td>\n",
       "      <td>711</td>\n",
       "    </tr>\n",
       "    <tr>\n",
       "      <th>10</th>\n",
       "      <td>10</td>\n",
       "      <td>23394</td>\n",
       "      <td>Japan</td>\n",
       "      <td>100</td>\n",
       "      <td>130</td>\n",
       "      <td>1157</td>\n",
       "    </tr>\n",
       "    <tr>\n",
       "      <th>11</th>\n",
       "      <td>11</td>\n",
       "      <td>20746</td>\n",
       "      <td>Japan</td>\n",
       "      <td>100</td>\n",
       "      <td>130</td>\n",
       "      <td>1237</td>\n",
       "    </tr>\n",
       "    <tr>\n",
       "      <th>12</th>\n",
       "      <td>12</td>\n",
       "      <td>13735</td>\n",
       "      <td>Japan</td>\n",
       "      <td>200</td>\n",
       "      <td>160</td>\n",
       "      <td>1760</td>\n",
       "    </tr>\n",
       "    <tr>\n",
       "      <th>13</th>\n",
       "      <td>13</td>\n",
       "      <td>10134</td>\n",
       "      <td>South Korea</td>\n",
       "      <td>50</td>\n",
       "      <td>70</td>\n",
       "      <td>895</td>\n",
       "    </tr>\n",
       "    <tr>\n",
       "      <th>14</th>\n",
       "      <td>14</td>\n",
       "      <td>17824</td>\n",
       "      <td>India</td>\n",
       "      <td>50</td>\n",
       "      <td>95</td>\n",
       "      <td>789</td>\n",
       "    </tr>\n",
       "    <tr>\n",
       "      <th>15</th>\n",
       "      <td>15</td>\n",
       "      <td>13693</td>\n",
       "      <td>South Korea</td>\n",
       "      <td>200</td>\n",
       "      <td>160</td>\n",
       "      <td>1580</td>\n",
       "    </tr>\n",
       "    <tr>\n",
       "      <th>16</th>\n",
       "      <td>16</td>\n",
       "      <td>29104</td>\n",
       "      <td>India</td>\n",
       "      <td>200</td>\n",
       "      <td>190</td>\n",
       "      <td>1792</td>\n",
       "    </tr>\n",
       "    <tr>\n",
       "      <th>17</th>\n",
       "      <td>17</td>\n",
       "      <td>24069</td>\n",
       "      <td>China</td>\n",
       "      <td>50</td>\n",
       "      <td>95</td>\n",
       "      <td>903</td>\n",
       "    </tr>\n",
       "    <tr>\n",
       "      <th>18</th>\n",
       "      <td>18</td>\n",
       "      <td>14400</td>\n",
       "      <td>China</td>\n",
       "      <td>200</td>\n",
       "      <td>190</td>\n",
       "      <td>1922</td>\n",
       "    </tr>\n",
       "    <tr>\n",
       "      <th>19</th>\n",
       "      <td>19</td>\n",
       "      <td>23843</td>\n",
       "      <td>South Korea</td>\n",
       "      <td>100</td>\n",
       "      <td>130</td>\n",
       "      <td>1057</td>\n",
       "    </tr>\n",
       "    <tr>\n",
       "      <th>20</th>\n",
       "      <td>20</td>\n",
       "      <td>11005</td>\n",
       "      <td>India</td>\n",
       "      <td>100</td>\n",
       "      <td>130</td>\n",
       "      <td>1106</td>\n",
       "    </tr>\n",
       "    <tr>\n",
       "      <th>21</th>\n",
       "      <td>21</td>\n",
       "      <td>24228</td>\n",
       "      <td>Japan</td>\n",
       "      <td>50</td>\n",
       "      <td>70</td>\n",
       "      <td>943</td>\n",
       "    </tr>\n",
       "    <tr>\n",
       "      <th>22</th>\n",
       "      <td>22</td>\n",
       "      <td>28123</td>\n",
       "      <td>South Korea</td>\n",
       "      <td>50</td>\n",
       "      <td>70</td>\n",
       "      <td>801</td>\n",
       "    </tr>\n",
       "    <tr>\n",
       "      <th>23</th>\n",
       "      <td>23</td>\n",
       "      <td>19446</td>\n",
       "      <td>South Korea</td>\n",
       "      <td>100</td>\n",
       "      <td>130</td>\n",
       "      <td>1492</td>\n",
       "    </tr>\n",
       "    <tr>\n",
       "      <th>24</th>\n",
       "      <td>24</td>\n",
       "      <td>24353</td>\n",
       "      <td>South Korea</td>\n",
       "      <td>50</td>\n",
       "      <td>95</td>\n",
       "      <td>815</td>\n",
       "    </tr>\n",
       "    <tr>\n",
       "      <th>25</th>\n",
       "      <td>25</td>\n",
       "      <td>20422</td>\n",
       "      <td>China</td>\n",
       "      <td>50</td>\n",
       "      <td>70</td>\n",
       "      <td>746</td>\n",
       "    </tr>\n",
       "    <tr>\n",
       "      <th>26</th>\n",
       "      <td>26</td>\n",
       "      <td>29904</td>\n",
       "      <td>South Korea</td>\n",
       "      <td>50</td>\n",
       "      <td>95</td>\n",
       "      <td>863</td>\n",
       "    </tr>\n",
       "    <tr>\n",
       "      <th>27</th>\n",
       "      <td>27</td>\n",
       "      <td>29219</td>\n",
       "      <td>South Korea</td>\n",
       "      <td>50</td>\n",
       "      <td>95</td>\n",
       "      <td>812</td>\n",
       "    </tr>\n",
       "    <tr>\n",
       "      <th>28</th>\n",
       "      <td>28</td>\n",
       "      <td>11169</td>\n",
       "      <td>China</td>\n",
       "      <td>100</td>\n",
       "      <td>130</td>\n",
       "      <td>1231</td>\n",
       "    </tr>\n",
       "    <tr>\n",
       "      <th>29</th>\n",
       "      <td>29</td>\n",
       "      <td>23162</td>\n",
       "      <td>South Korea</td>\n",
       "      <td>200</td>\n",
       "      <td>190</td>\n",
       "      <td>1986</td>\n",
       "    </tr>\n",
       "  </tbody>\n",
       "</table>\n",
       "</div>"
      ],
      "text/plain": [
       "    Unnamed: 0     id place of manufacture  watt  price  hours worked\n",
       "0            0  23261                Japan    50     70           969\n",
       "1            1  17185                Japan    50     95           933\n",
       "2            2  15607                Japan   200    160          1506\n",
       "3            3  15744                India    50     95           885\n",
       "4            4  22002                Japan   200    160          1532\n",
       "5            5  25478                India   200    160          1809\n",
       "6            6  20131                India    50     95           968\n",
       "7            7  18098          South Korea   100    130          1039\n",
       "8            8  28228                India    50     70           763\n",
       "9            9  20791                India    50     70           711\n",
       "10          10  23394                Japan   100    130          1157\n",
       "11          11  20746                Japan   100    130          1237\n",
       "12          12  13735                Japan   200    160          1760\n",
       "13          13  10134          South Korea    50     70           895\n",
       "14          14  17824                India    50     95           789\n",
       "15          15  13693          South Korea   200    160          1580\n",
       "16          16  29104                India   200    190          1792\n",
       "17          17  24069                China    50     95           903\n",
       "18          18  14400                China   200    190          1922\n",
       "19          19  23843          South Korea   100    130          1057\n",
       "20          20  11005                India   100    130          1106\n",
       "21          21  24228                Japan    50     70           943\n",
       "22          22  28123          South Korea    50     70           801\n",
       "23          23  19446          South Korea   100    130          1492\n",
       "24          24  24353          South Korea    50     95           815\n",
       "25          25  20422                China    50     70           746\n",
       "26          26  29904          South Korea    50     95           863\n",
       "27          27  29219          South Korea    50     95           812\n",
       "28          28  11169                China   100    130          1231\n",
       "29          29  23162          South Korea   200    190          1986"
      ]
     },
     "execution_count": 96,
     "metadata": {},
     "output_type": "execute_result"
    }
   ],
   "source": [
    "df = pd.read_csv(r\"C:\\Users\\MANISH SHARMA\\Music\\Downloads\\enodo_data.csv\")\n",
    "df"
   ]
  },
  {
   "cell_type": "code",
   "execution_count": 97,
   "metadata": {},
   "outputs": [
    {
     "data": {
      "text/html": [
       "<div>\n",
       "<style scoped>\n",
       "    .dataframe tbody tr th:only-of-type {\n",
       "        vertical-align: middle;\n",
       "    }\n",
       "\n",
       "    .dataframe tbody tr th {\n",
       "        vertical-align: top;\n",
       "    }\n",
       "\n",
       "    .dataframe thead th {\n",
       "        text-align: right;\n",
       "    }\n",
       "</style>\n",
       "<table border=\"1\" class=\"dataframe\">\n",
       "  <thead>\n",
       "    <tr style=\"text-align: right;\">\n",
       "      <th></th>\n",
       "      <th>id</th>\n",
       "      <th>place of manufacture</th>\n",
       "      <th>watt</th>\n",
       "      <th>price</th>\n",
       "      <th>hours worked</th>\n",
       "    </tr>\n",
       "  </thead>\n",
       "  <tbody>\n",
       "    <tr>\n",
       "      <th>0</th>\n",
       "      <td>23261</td>\n",
       "      <td>Japan</td>\n",
       "      <td>50</td>\n",
       "      <td>70</td>\n",
       "      <td>969</td>\n",
       "    </tr>\n",
       "    <tr>\n",
       "      <th>1</th>\n",
       "      <td>17185</td>\n",
       "      <td>Japan</td>\n",
       "      <td>50</td>\n",
       "      <td>95</td>\n",
       "      <td>933</td>\n",
       "    </tr>\n",
       "    <tr>\n",
       "      <th>2</th>\n",
       "      <td>15607</td>\n",
       "      <td>Japan</td>\n",
       "      <td>200</td>\n",
       "      <td>160</td>\n",
       "      <td>1506</td>\n",
       "    </tr>\n",
       "    <tr>\n",
       "      <th>3</th>\n",
       "      <td>15744</td>\n",
       "      <td>India</td>\n",
       "      <td>50</td>\n",
       "      <td>95</td>\n",
       "      <td>885</td>\n",
       "    </tr>\n",
       "    <tr>\n",
       "      <th>4</th>\n",
       "      <td>22002</td>\n",
       "      <td>Japan</td>\n",
       "      <td>200</td>\n",
       "      <td>160</td>\n",
       "      <td>1532</td>\n",
       "    </tr>\n",
       "    <tr>\n",
       "      <th>5</th>\n",
       "      <td>25478</td>\n",
       "      <td>India</td>\n",
       "      <td>200</td>\n",
       "      <td>160</td>\n",
       "      <td>1809</td>\n",
       "    </tr>\n",
       "    <tr>\n",
       "      <th>6</th>\n",
       "      <td>20131</td>\n",
       "      <td>India</td>\n",
       "      <td>50</td>\n",
       "      <td>95</td>\n",
       "      <td>968</td>\n",
       "    </tr>\n",
       "    <tr>\n",
       "      <th>7</th>\n",
       "      <td>18098</td>\n",
       "      <td>South Korea</td>\n",
       "      <td>100</td>\n",
       "      <td>130</td>\n",
       "      <td>1039</td>\n",
       "    </tr>\n",
       "    <tr>\n",
       "      <th>8</th>\n",
       "      <td>28228</td>\n",
       "      <td>India</td>\n",
       "      <td>50</td>\n",
       "      <td>70</td>\n",
       "      <td>763</td>\n",
       "    </tr>\n",
       "    <tr>\n",
       "      <th>9</th>\n",
       "      <td>20791</td>\n",
       "      <td>India</td>\n",
       "      <td>50</td>\n",
       "      <td>70</td>\n",
       "      <td>711</td>\n",
       "    </tr>\n",
       "    <tr>\n",
       "      <th>10</th>\n",
       "      <td>23394</td>\n",
       "      <td>Japan</td>\n",
       "      <td>100</td>\n",
       "      <td>130</td>\n",
       "      <td>1157</td>\n",
       "    </tr>\n",
       "    <tr>\n",
       "      <th>11</th>\n",
       "      <td>20746</td>\n",
       "      <td>Japan</td>\n",
       "      <td>100</td>\n",
       "      <td>130</td>\n",
       "      <td>1237</td>\n",
       "    </tr>\n",
       "    <tr>\n",
       "      <th>12</th>\n",
       "      <td>13735</td>\n",
       "      <td>Japan</td>\n",
       "      <td>200</td>\n",
       "      <td>160</td>\n",
       "      <td>1760</td>\n",
       "    </tr>\n",
       "    <tr>\n",
       "      <th>13</th>\n",
       "      <td>10134</td>\n",
       "      <td>South Korea</td>\n",
       "      <td>50</td>\n",
       "      <td>70</td>\n",
       "      <td>895</td>\n",
       "    </tr>\n",
       "    <tr>\n",
       "      <th>14</th>\n",
       "      <td>17824</td>\n",
       "      <td>India</td>\n",
       "      <td>50</td>\n",
       "      <td>95</td>\n",
       "      <td>789</td>\n",
       "    </tr>\n",
       "    <tr>\n",
       "      <th>15</th>\n",
       "      <td>13693</td>\n",
       "      <td>South Korea</td>\n",
       "      <td>200</td>\n",
       "      <td>160</td>\n",
       "      <td>1580</td>\n",
       "    </tr>\n",
       "    <tr>\n",
       "      <th>16</th>\n",
       "      <td>29104</td>\n",
       "      <td>India</td>\n",
       "      <td>200</td>\n",
       "      <td>190</td>\n",
       "      <td>1792</td>\n",
       "    </tr>\n",
       "    <tr>\n",
       "      <th>17</th>\n",
       "      <td>24069</td>\n",
       "      <td>China</td>\n",
       "      <td>50</td>\n",
       "      <td>95</td>\n",
       "      <td>903</td>\n",
       "    </tr>\n",
       "    <tr>\n",
       "      <th>18</th>\n",
       "      <td>14400</td>\n",
       "      <td>China</td>\n",
       "      <td>200</td>\n",
       "      <td>190</td>\n",
       "      <td>1922</td>\n",
       "    </tr>\n",
       "    <tr>\n",
       "      <th>19</th>\n",
       "      <td>23843</td>\n",
       "      <td>South Korea</td>\n",
       "      <td>100</td>\n",
       "      <td>130</td>\n",
       "      <td>1057</td>\n",
       "    </tr>\n",
       "    <tr>\n",
       "      <th>20</th>\n",
       "      <td>11005</td>\n",
       "      <td>India</td>\n",
       "      <td>100</td>\n",
       "      <td>130</td>\n",
       "      <td>1106</td>\n",
       "    </tr>\n",
       "    <tr>\n",
       "      <th>21</th>\n",
       "      <td>24228</td>\n",
       "      <td>Japan</td>\n",
       "      <td>50</td>\n",
       "      <td>70</td>\n",
       "      <td>943</td>\n",
       "    </tr>\n",
       "    <tr>\n",
       "      <th>22</th>\n",
       "      <td>28123</td>\n",
       "      <td>South Korea</td>\n",
       "      <td>50</td>\n",
       "      <td>70</td>\n",
       "      <td>801</td>\n",
       "    </tr>\n",
       "    <tr>\n",
       "      <th>23</th>\n",
       "      <td>19446</td>\n",
       "      <td>South Korea</td>\n",
       "      <td>100</td>\n",
       "      <td>130</td>\n",
       "      <td>1492</td>\n",
       "    </tr>\n",
       "    <tr>\n",
       "      <th>24</th>\n",
       "      <td>24353</td>\n",
       "      <td>South Korea</td>\n",
       "      <td>50</td>\n",
       "      <td>95</td>\n",
       "      <td>815</td>\n",
       "    </tr>\n",
       "    <tr>\n",
       "      <th>25</th>\n",
       "      <td>20422</td>\n",
       "      <td>China</td>\n",
       "      <td>50</td>\n",
       "      <td>70</td>\n",
       "      <td>746</td>\n",
       "    </tr>\n",
       "    <tr>\n",
       "      <th>26</th>\n",
       "      <td>29904</td>\n",
       "      <td>South Korea</td>\n",
       "      <td>50</td>\n",
       "      <td>95</td>\n",
       "      <td>863</td>\n",
       "    </tr>\n",
       "    <tr>\n",
       "      <th>27</th>\n",
       "      <td>29219</td>\n",
       "      <td>South Korea</td>\n",
       "      <td>50</td>\n",
       "      <td>95</td>\n",
       "      <td>812</td>\n",
       "    </tr>\n",
       "    <tr>\n",
       "      <th>28</th>\n",
       "      <td>11169</td>\n",
       "      <td>China</td>\n",
       "      <td>100</td>\n",
       "      <td>130</td>\n",
       "      <td>1231</td>\n",
       "    </tr>\n",
       "    <tr>\n",
       "      <th>29</th>\n",
       "      <td>23162</td>\n",
       "      <td>South Korea</td>\n",
       "      <td>200</td>\n",
       "      <td>190</td>\n",
       "      <td>1986</td>\n",
       "    </tr>\n",
       "  </tbody>\n",
       "</table>\n",
       "</div>"
      ],
      "text/plain": [
       "       id place of manufacture  watt  price  hours worked\n",
       "0   23261                Japan    50     70           969\n",
       "1   17185                Japan    50     95           933\n",
       "2   15607                Japan   200    160          1506\n",
       "3   15744                India    50     95           885\n",
       "4   22002                Japan   200    160          1532\n",
       "5   25478                India   200    160          1809\n",
       "6   20131                India    50     95           968\n",
       "7   18098          South Korea   100    130          1039\n",
       "8   28228                India    50     70           763\n",
       "9   20791                India    50     70           711\n",
       "10  23394                Japan   100    130          1157\n",
       "11  20746                Japan   100    130          1237\n",
       "12  13735                Japan   200    160          1760\n",
       "13  10134          South Korea    50     70           895\n",
       "14  17824                India    50     95           789\n",
       "15  13693          South Korea   200    160          1580\n",
       "16  29104                India   200    190          1792\n",
       "17  24069                China    50     95           903\n",
       "18  14400                China   200    190          1922\n",
       "19  23843          South Korea   100    130          1057\n",
       "20  11005                India   100    130          1106\n",
       "21  24228                Japan    50     70           943\n",
       "22  28123          South Korea    50     70           801\n",
       "23  19446          South Korea   100    130          1492\n",
       "24  24353          South Korea    50     95           815\n",
       "25  20422                China    50     70           746\n",
       "26  29904          South Korea    50     95           863\n",
       "27  29219          South Korea    50     95           812\n",
       "28  11169                China   100    130          1231\n",
       "29  23162          South Korea   200    190          1986"
      ]
     },
     "execution_count": 97,
     "metadata": {},
     "output_type": "execute_result"
    }
   ],
   "source": [
    "df = df[[\"id\",\"place of manufacture\",\"watt\",\"price\",\"hours worked\"]]\n",
    "df"
   ]
  },
  {
   "cell_type": "markdown",
   "metadata": {},
   "source": [
    "## Ques 1 : Bulbs are being manufactured in many countries and are being sold. Is there any relation between the number of hours for which the bulb worked and the place where it was manufactured?"
   ]
  },
  {
   "cell_type": "markdown",
   "metadata": {},
   "source": [
    "## To answer this question , we can plot the countplot with the hour worked and place of manufactured to look for highest co-relation"
   ]
  },
  {
   "cell_type": "code",
   "execution_count": 100,
   "metadata": {},
   "outputs": [
    {
     "name": "stdout",
     "output_type": "stream",
     "text": [
      "South Korea    10\n",
      "Japan           8\n",
      "India           8\n",
      "China           4\n",
      "Name: place of manufacture, dtype: int64\n"
     ]
    },
    {
     "data": {
      "image/png": "[encoded data removed]",
      "text/plain": [
       "<Figure size 504x360 with 1 Axes>"
      ]
     },
     "metadata": {
      "needs_background": "light"
     },
     "output_type": "display_data"
    }
   ],
   "source": [
    "plt.figure(figsize  = (7,5))\n",
    "sb.countplot(df[\"place of manufacture\"])\n",
    "plt.grid()\n",
    "print(df[\"place of manufacture\"].value_counts())"
   ]
  },
  {
   "cell_type": "markdown",
   "metadata": {},
   "source": [
    "## Checking distribution of hours worked"
   ]
  },
  {
   "cell_type": "code",
   "execution_count": 102,
   "metadata": {},
   "outputs": [
    {
     "data": {
      "image/png": "[encoded data removed]",
      "text/plain": [
       "<Figure size 432x288 with 1 Axes>"
      ]
     },
     "metadata": {
      "needs_background": "light"
     },
     "output_type": "display_data"
    }
   ],
   "source": [
    "sb.distplot(df[\"hours worked\"])\n",
    "plt.grid()"
   ]
  },
  {
   "cell_type": "markdown",
   "metadata": {},
   "source": [
    "## Majority lies in between 750 - 1200 hr"
   ]
  },
  {
   "cell_type": "markdown",
   "metadata": {},
   "source": [
    "## We can check the hours worked count distribution for each place of manufacture , just to get an estimate of working done in each country"
   ]
  },
  {
   "cell_type": "code",
   "execution_count": 126,
   "metadata": {},
   "outputs": [
    {
     "data": {
      "text/plain": [
       "place of manufacture\n",
       "China           4\n",
       "India           8\n",
       "Japan           8\n",
       "South Korea    10\n",
       "Name: hours worked, dtype: int64"
      ]
     },
     "execution_count": 126,
     "metadata": {},
     "output_type": "execute_result"
    }
   ],
   "source": [
    "df.groupby('place of manufacture')[\"hours worked\"].count()"
   ]
  },
  {
   "cell_type": "code",
   "execution_count": 109,
   "metadata": {},
   "outputs": [
    {
     "data": {
      "text/plain": [
       "<matplotlib.axes._subplots.AxesSubplot at 0x2209511fa08>"
      ]
     },
     "execution_count": 109,
     "metadata": {},
     "output_type": "execute_result"
    },
    {
     "data": {
      "image/png": "[encoded data removed]",
      "text/plain": [
       "<Figure size 504x360 with 2 Axes>"
      ]
     },
     "metadata": {
      "needs_background": "light"
     },
     "output_type": "display_data"
    }
   ],
   "source": [
    "plt.figure(figsize = (7,5))\n",
    "sb.heatmap(df.corr() , annot = True)"
   ]
  },
  {
   "cell_type": "markdown",
   "metadata": {},
   "source": [
    "## We can clearly see , that watt and price is 94 % co-related and hours and watt for 95 % and also price and hours for 93 %"
   ]
  },
  {
   "cell_type": "markdown",
   "metadata": {},
   "source": [
    "## By using a groupby function , we can clearly witness the country having the highest co-relation of hours worked of the bulb by taking the mean  !"
   ]
  },
  {
   "cell_type": "code",
   "execution_count": 105,
   "metadata": {},
   "outputs": [
    {
     "data": {
      "text/plain": [
       "place of manufacture\n",
       "Japan          1254.625\n",
       "China          1200.500\n",
       "South Korea    1134.000\n",
       "India          1102.875\n",
       "Name: hours worked, dtype: float64"
      ]
     },
     "execution_count": 105,
     "metadata": {},
     "output_type": "execute_result"
    }
   ],
   "source": [
    "df.groupby('place of manufacture')[\"hours worked\"].mean().sort_values(ascending = False)"
   ]
  },
  {
   "cell_type": "markdown",
   "metadata": {},
   "source": [
    "## Hence , the answer is \"Yes , there is a relation and JAPAN produces the bulb which glows for the maximum hours \""
   ]
  },
  {
   "cell_type": "code",
   "execution_count": 106,
   "metadata": {},
   "outputs": [],
   "source": [
    "###########################################################################################################################"
   ]
  },
  {
   "cell_type": "markdown",
   "metadata": {},
   "source": [
    "## Q2: Prefered place to manufacture 50 watts bulb"
   ]
  },
  {
   "cell_type": "markdown",
   "metadata": {},
   "source": [
    "## Since , we just need to find the best place to look out for 50 watts out of (50,100,200) , we use a groupby function to look at the watts"
   ]
  },
  {
   "cell_type": "markdown",
   "metadata": {},
   "source": [
    "## Do not forget , buying a 50 watt is only worth it , when the output is good ! Buying a 100 watt bulb and giving no sufficient result is useless !"
   ]
  },
  {
   "cell_type": "markdown",
   "metadata": {},
   "source": [
    "## First we shall look at the heatmap of the dataset !"
   ]
  },
  {
   "cell_type": "code",
   "execution_count": 112,
   "metadata": {},
   "outputs": [
    {
     "data": {
      "text/plain": [
       "<matplotlib.axes._subplots.AxesSubplot at 0x220954e5788>"
      ]
     },
     "execution_count": 112,
     "metadata": {},
     "output_type": "execute_result"
    },
    {
     "data": {
      "image/png": "[encoded data removed]",
      "text/plain": [
       "<Figure size 504x360 with 2 Axes>"
      ]
     },
     "metadata": {
      "needs_background": "light"
     },
     "output_type": "display_data"
    }
   ],
   "source": [
    "plt.figure(figsize = (7,5))\n",
    "sb.heatmap(df.corr() , annot = True)"
   ]
  },
  {
   "cell_type": "markdown",
   "metadata": {},
   "source": [
    "## Places with their mean watts"
   ]
  },
  {
   "cell_type": "code",
   "execution_count": 127,
   "metadata": {},
   "outputs": [
    {
     "data": {
      "text/plain": [
       "place of manufacture\n",
       "Japan          118.75\n",
       "China          100.00\n",
       "South Korea     95.00\n",
       "India           93.75\n",
       "Name: watt, dtype: float64"
      ]
     },
     "execution_count": 127,
     "metadata": {},
     "output_type": "execute_result"
    }
   ],
   "source": [
    "df.groupby('place of manufacture')[\"watt\"].mean().sort_values(ascending = False)"
   ]
  },
  {
   "cell_type": "code",
   "execution_count": 129,
   "metadata": {},
   "outputs": [
    {
     "data": {
      "text/plain": [
       "place of manufacture\n",
       "China           4\n",
       "India           8\n",
       "Japan           8\n",
       "South Korea    10\n",
       "Name: watt, dtype: int64"
      ]
     },
     "execution_count": 129,
     "metadata": {},
     "output_type": "execute_result"
    }
   ],
   "source": [
    "df.groupby('place of manufacture')[\"watt\"].count()"
   ]
  },
  {
   "cell_type": "markdown",
   "metadata": {},
   "source": [
    "## The count of INDIA and JAPAN is same , so only thing to distinguish this country is the Price for 50 watt bulb !"
   ]
  },
  {
   "cell_type": "markdown",
   "metadata": {},
   "source": [
    "## The places with their mean watts and mean price , with mean hour worked ! This pivot table helps to find solution for the answer !"
   ]
  },
  {
   "cell_type": "code",
   "execution_count": 130,
   "metadata": {},
   "outputs": [
    {
     "data": {
      "text/plain": [
       "place of manufacture  watt  hours worked\n",
       "South Korea           200   1986            190\n",
       "India                 200   1792            190\n",
       "China                 200   1922            190\n",
       "Japan                 200   1760            160\n",
       "India                 200   1809            160\n",
       "South Korea           200   1580            160\n",
       "Japan                 200   1532            160\n",
       "                            1506            160\n",
       "China                 100   1231            130\n",
       "Japan                 100   1237            130\n",
       "                            1157            130\n",
       "South Korea           100   1039            130\n",
       "                            1057            130\n",
       "                            1492            130\n",
       "India                 100   1106            130\n",
       "South Korea           50    812              95\n",
       "                            815              95\n",
       "                            863              95\n",
       "China                 50    903              95\n",
       "Japan                 50    933              95\n",
       "India                 50    968              95\n",
       "                            885              95\n",
       "                            789              95\n",
       "                            711              70\n",
       "Japan                 50    969              70\n",
       "India                 50    763              70\n",
       "Japan                 50    943              70\n",
       "South Korea           50    801              70\n",
       "                            895              70\n",
       "China                 50    746              70\n",
       "Name: price, dtype: int64"
      ]
     },
     "execution_count": 130,
     "metadata": {},
     "output_type": "execute_result"
    }
   ],
   "source": [
    "df.groupby(['place of manufacture' , 'watt' , 'hours worked'])[\"price\"].mean().sort_values(ascending = False)\n",
    "\n",
    "# The last column is price"
   ]
  },
  {
   "cell_type": "markdown",
   "metadata": {},
   "source": [
    "## When we refer the 50 watts column ,we see that INDIA produes 50 watts for an avg price of 95 , where as JAPAN on the other side produces the same 50 watts for 70 rupees with a great duration of 969 hr lifespan ! Wanna buy a great bulb of 50 watts for less price  ,head to JAPAN my friend :)  \n",
    "## The Ans is JAPAN"
   ]
  },
  {
   "cell_type": "code",
   "execution_count": 131,
   "metadata": {},
   "outputs": [],
   "source": [
    "###########################################################################################################################"
   ]
  },
  {
   "cell_type": "code",
   "execution_count": null,
   "metadata": {},
   "outputs": [],
   "source": []
  },
  {
   "cell_type": "markdown",
   "metadata": {},
   "source": [
    "## Ques 3 : Which country provides more efficiency (price to quality)"
   ]
  },
  {
   "cell_type": "markdown",
   "metadata": {},
   "source": [
    "## This is tricky ques , cause wanting to find the efficiency wrt price and qualtiy ! The efficiency of bulbs range from one another (Ex : Efficiency of LED is far away from Incadescent bulb and CFL)"
   ]
  },
  {
   "cell_type": "markdown",
   "metadata": {},
   "source": [
    "## Here , we have assumed the efficiency of Incadescent bulb"
   ]
  },
  {
   "cell_type": "markdown",
   "metadata": {},
   "source": [
    "## Whenever you need to find efficiency of Bulb ,you need to understand and find the Lumen value !\n",
    "## 1 lumen  = 15 times watt for incadescent"
   ]
  },
  {
   "cell_type": "code",
   "execution_count": 132,
   "metadata": {},
   "outputs": [],
   "source": [
    "df[\"lumen\"] = df[\"watt\"]*15"
   ]
  },
  {
   "cell_type": "code",
   "execution_count": 134,
   "metadata": {},
   "outputs": [
    {
     "data": {
      "text/html": [
       "<div>\n",
       "<style scoped>\n",
       "    .dataframe tbody tr th:only-of-type {\n",
       "        vertical-align: middle;\n",
       "    }\n",
       "\n",
       "    .dataframe tbody tr th {\n",
       "        vertical-align: top;\n",
       "    }\n",
       "\n",
       "    .dataframe thead th {\n",
       "        text-align: right;\n",
       "    }\n",
       "</style>\n",
       "<table border=\"1\" class=\"dataframe\">\n",
       "  <thead>\n",
       "    <tr style=\"text-align: right;\">\n",
       "      <th></th>\n",
       "      <th>id</th>\n",
       "      <th>place of manufacture</th>\n",
       "      <th>watt</th>\n",
       "      <th>price</th>\n",
       "      <th>hours worked</th>\n",
       "      <th>lumen</th>\n",
       "    </tr>\n",
       "  </thead>\n",
       "  <tbody>\n",
       "    <tr>\n",
       "      <th>0</th>\n",
       "      <td>23261</td>\n",
       "      <td>Japan</td>\n",
       "      <td>50</td>\n",
       "      <td>70</td>\n",
       "      <td>969</td>\n",
       "      <td>750</td>\n",
       "    </tr>\n",
       "    <tr>\n",
       "      <th>1</th>\n",
       "      <td>17185</td>\n",
       "      <td>Japan</td>\n",
       "      <td>50</td>\n",
       "      <td>95</td>\n",
       "      <td>933</td>\n",
       "      <td>750</td>\n",
       "    </tr>\n",
       "    <tr>\n",
       "      <th>2</th>\n",
       "      <td>15607</td>\n",
       "      <td>Japan</td>\n",
       "      <td>200</td>\n",
       "      <td>160</td>\n",
       "      <td>1506</td>\n",
       "      <td>3000</td>\n",
       "    </tr>\n",
       "    <tr>\n",
       "      <th>3</th>\n",
       "      <td>15744</td>\n",
       "      <td>India</td>\n",
       "      <td>50</td>\n",
       "      <td>95</td>\n",
       "      <td>885</td>\n",
       "      <td>750</td>\n",
       "    </tr>\n",
       "    <tr>\n",
       "      <th>4</th>\n",
       "      <td>22002</td>\n",
       "      <td>Japan</td>\n",
       "      <td>200</td>\n",
       "      <td>160</td>\n",
       "      <td>1532</td>\n",
       "      <td>3000</td>\n",
       "    </tr>\n",
       "    <tr>\n",
       "      <th>5</th>\n",
       "      <td>25478</td>\n",
       "      <td>India</td>\n",
       "      <td>200</td>\n",
       "      <td>160</td>\n",
       "      <td>1809</td>\n",
       "      <td>3000</td>\n",
       "    </tr>\n",
       "    <tr>\n",
       "      <th>6</th>\n",
       "      <td>20131</td>\n",
       "      <td>India</td>\n",
       "      <td>50</td>\n",
       "      <td>95</td>\n",
       "      <td>968</td>\n",
       "      <td>750</td>\n",
       "    </tr>\n",
       "    <tr>\n",
       "      <th>7</th>\n",
       "      <td>18098</td>\n",
       "      <td>South Korea</td>\n",
       "      <td>100</td>\n",
       "      <td>130</td>\n",
       "      <td>1039</td>\n",
       "      <td>1500</td>\n",
       "    </tr>\n",
       "    <tr>\n",
       "      <th>8</th>\n",
       "      <td>28228</td>\n",
       "      <td>India</td>\n",
       "      <td>50</td>\n",
       "      <td>70</td>\n",
       "      <td>763</td>\n",
       "      <td>750</td>\n",
       "    </tr>\n",
       "    <tr>\n",
       "      <th>9</th>\n",
       "      <td>20791</td>\n",
       "      <td>India</td>\n",
       "      <td>50</td>\n",
       "      <td>70</td>\n",
       "      <td>711</td>\n",
       "      <td>750</td>\n",
       "    </tr>\n",
       "    <tr>\n",
       "      <th>10</th>\n",
       "      <td>23394</td>\n",
       "      <td>Japan</td>\n",
       "      <td>100</td>\n",
       "      <td>130</td>\n",
       "      <td>1157</td>\n",
       "      <td>1500</td>\n",
       "    </tr>\n",
       "    <tr>\n",
       "      <th>11</th>\n",
       "      <td>20746</td>\n",
       "      <td>Japan</td>\n",
       "      <td>100</td>\n",
       "      <td>130</td>\n",
       "      <td>1237</td>\n",
       "      <td>1500</td>\n",
       "    </tr>\n",
       "    <tr>\n",
       "      <th>12</th>\n",
       "      <td>13735</td>\n",
       "      <td>Japan</td>\n",
       "      <td>200</td>\n",
       "      <td>160</td>\n",
       "      <td>1760</td>\n",
       "      <td>3000</td>\n",
       "    </tr>\n",
       "    <tr>\n",
       "      <th>13</th>\n",
       "      <td>10134</td>\n",
       "      <td>South Korea</td>\n",
       "      <td>50</td>\n",
       "      <td>70</td>\n",
       "      <td>895</td>\n",
       "      <td>750</td>\n",
       "    </tr>\n",
       "    <tr>\n",
       "      <th>14</th>\n",
       "      <td>17824</td>\n",
       "      <td>India</td>\n",
       "      <td>50</td>\n",
       "      <td>95</td>\n",
       "      <td>789</td>\n",
       "      <td>750</td>\n",
       "    </tr>\n",
       "    <tr>\n",
       "      <th>15</th>\n",
       "      <td>13693</td>\n",
       "      <td>South Korea</td>\n",
       "      <td>200</td>\n",
       "      <td>160</td>\n",
       "      <td>1580</td>\n",
       "      <td>3000</td>\n",
       "    </tr>\n",
       "    <tr>\n",
       "      <th>16</th>\n",
       "      <td>29104</td>\n",
       "      <td>India</td>\n",
       "      <td>200</td>\n",
       "      <td>190</td>\n",
       "      <td>1792</td>\n",
       "      <td>3000</td>\n",
       "    </tr>\n",
       "    <tr>\n",
       "      <th>17</th>\n",
       "      <td>24069</td>\n",
       "      <td>China</td>\n",
       "      <td>50</td>\n",
       "      <td>95</td>\n",
       "      <td>903</td>\n",
       "      <td>750</td>\n",
       "    </tr>\n",
       "    <tr>\n",
       "      <th>18</th>\n",
       "      <td>14400</td>\n",
       "      <td>China</td>\n",
       "      <td>200</td>\n",
       "      <td>190</td>\n",
       "      <td>1922</td>\n",
       "      <td>3000</td>\n",
       "    </tr>\n",
       "    <tr>\n",
       "      <th>19</th>\n",
       "      <td>23843</td>\n",
       "      <td>South Korea</td>\n",
       "      <td>100</td>\n",
       "      <td>130</td>\n",
       "      <td>1057</td>\n",
       "      <td>1500</td>\n",
       "    </tr>\n",
       "    <tr>\n",
       "      <th>20</th>\n",
       "      <td>11005</td>\n",
       "      <td>India</td>\n",
       "      <td>100</td>\n",
       "      <td>130</td>\n",
       "      <td>1106</td>\n",
       "      <td>1500</td>\n",
       "    </tr>\n",
       "    <tr>\n",
       "      <th>21</th>\n",
       "      <td>24228</td>\n",
       "      <td>Japan</td>\n",
       "      <td>50</td>\n",
       "      <td>70</td>\n",
       "      <td>943</td>\n",
       "      <td>750</td>\n",
       "    </tr>\n",
       "    <tr>\n",
       "      <th>22</th>\n",
       "      <td>28123</td>\n",
       "      <td>South Korea</td>\n",
       "      <td>50</td>\n",
       "      <td>70</td>\n",
       "      <td>801</td>\n",
       "      <td>750</td>\n",
       "    </tr>\n",
       "    <tr>\n",
       "      <th>23</th>\n",
       "      <td>19446</td>\n",
       "      <td>South Korea</td>\n",
       "      <td>100</td>\n",
       "      <td>130</td>\n",
       "      <td>1492</td>\n",
       "      <td>1500</td>\n",
       "    </tr>\n",
       "    <tr>\n",
       "      <th>24</th>\n",
       "      <td>24353</td>\n",
       "      <td>South Korea</td>\n",
       "      <td>50</td>\n",
       "      <td>95</td>\n",
       "      <td>815</td>\n",
       "      <td>750</td>\n",
       "    </tr>\n",
       "    <tr>\n",
       "      <th>25</th>\n",
       "      <td>20422</td>\n",
       "      <td>China</td>\n",
       "      <td>50</td>\n",
       "      <td>70</td>\n",
       "      <td>746</td>\n",
       "      <td>750</td>\n",
       "    </tr>\n",
       "    <tr>\n",
       "      <th>26</th>\n",
       "      <td>29904</td>\n",
       "      <td>South Korea</td>\n",
       "      <td>50</td>\n",
       "      <td>95</td>\n",
       "      <td>863</td>\n",
       "      <td>750</td>\n",
       "    </tr>\n",
       "    <tr>\n",
       "      <th>27</th>\n",
       "      <td>29219</td>\n",
       "      <td>South Korea</td>\n",
       "      <td>50</td>\n",
       "      <td>95</td>\n",
       "      <td>812</td>\n",
       "      <td>750</td>\n",
       "    </tr>\n",
       "    <tr>\n",
       "      <th>28</th>\n",
       "      <td>11169</td>\n",
       "      <td>China</td>\n",
       "      <td>100</td>\n",
       "      <td>130</td>\n",
       "      <td>1231</td>\n",
       "      <td>1500</td>\n",
       "    </tr>\n",
       "    <tr>\n",
       "      <th>29</th>\n",
       "      <td>23162</td>\n",
       "      <td>South Korea</td>\n",
       "      <td>200</td>\n",
       "      <td>190</td>\n",
       "      <td>1986</td>\n",
       "      <td>3000</td>\n",
       "    </tr>\n",
       "  </tbody>\n",
       "</table>\n",
       "</div>"
      ],
      "text/plain": [
       "       id place of manufacture  watt  price  hours worked  lumen\n",
       "0   23261                Japan    50     70           969    750\n",
       "1   17185                Japan    50     95           933    750\n",
       "2   15607                Japan   200    160          1506   3000\n",
       "3   15744                India    50     95           885    750\n",
       "4   22002                Japan   200    160          1532   3000\n",
       "5   25478                India   200    160          1809   3000\n",
       "6   20131                India    50     95           968    750\n",
       "7   18098          South Korea   100    130          1039   1500\n",
       "8   28228                India    50     70           763    750\n",
       "9   20791                India    50     70           711    750\n",
       "10  23394                Japan   100    130          1157   1500\n",
       "11  20746                Japan   100    130          1237   1500\n",
       "12  13735                Japan   200    160          1760   3000\n",
       "13  10134          South Korea    50     70           895    750\n",
       "14  17824                India    50     95           789    750\n",
       "15  13693          South Korea   200    160          1580   3000\n",
       "16  29104                India   200    190          1792   3000\n",
       "17  24069                China    50     95           903    750\n",
       "18  14400                China   200    190          1922   3000\n",
       "19  23843          South Korea   100    130          1057   1500\n",
       "20  11005                India   100    130          1106   1500\n",
       "21  24228                Japan    50     70           943    750\n",
       "22  28123          South Korea    50     70           801    750\n",
       "23  19446          South Korea   100    130          1492   1500\n",
       "24  24353          South Korea    50     95           815    750\n",
       "25  20422                China    50     70           746    750\n",
       "26  29904          South Korea    50     95           863    750\n",
       "27  29219          South Korea    50     95           812    750\n",
       "28  11169                China   100    130          1231   1500\n",
       "29  23162          South Korea   200    190          1986   3000"
      ]
     },
     "execution_count": 134,
     "metadata": {},
     "output_type": "execute_result"
    }
   ],
   "source": [
    "df"
   ]
  },
  {
   "cell_type": "markdown",
   "metadata": {},
   "source": [
    "## After making a new col as \"Lumen\" , we try to plot the groupby func for the dataset, to find mean of all values and then try to approach the problem !"
   ]
  },
  {
   "cell_type": "code",
   "execution_count": 135,
   "metadata": {},
   "outputs": [
    {
     "data": {
      "text/plain": [
       "place of manufacture  watt  lumen  hours worked\n",
       "South Korea           200   3000   1986            190\n",
       "India                 200   3000   1792            190\n",
       "China                 200   3000   1922            190\n",
       "Japan                 200   3000   1760            160\n",
       "India                 200   3000   1809            160\n",
       "South Korea           200   3000   1580            160\n",
       "Japan                 200   3000   1532            160\n",
       "                                   1506            160\n",
       "China                 100   1500   1231            130\n",
       "Japan                 100   1500   1237            130\n",
       "                                   1157            130\n",
       "South Korea           100   1500   1039            130\n",
       "                                   1057            130\n",
       "                                   1492            130\n",
       "India                 100   1500   1106            130\n",
       "South Korea           50    750    812              95\n",
       "                                   815              95\n",
       "                                   863              95\n",
       "China                 50    750    903              95\n",
       "Japan                 50    750    933              95\n",
       "India                 50    750    968              95\n",
       "                                   885              95\n",
       "                                   789              95\n",
       "                                   711              70\n",
       "Japan                 50    750    969              70\n",
       "India                 50    750    763              70\n",
       "Japan                 50    750    943              70\n",
       "South Korea           50    750    801              70\n",
       "                                   895              70\n",
       "China                 50    750    746              70\n",
       "Name: price, dtype: int64"
      ]
     },
     "execution_count": 135,
     "metadata": {},
     "output_type": "execute_result"
    }
   ],
   "source": [
    "df.groupby(['place of manufacture' , 'watt' , 'lumen' , 'hours worked'])[\"price\"].mean().sort_values(ascending = False)"
   ]
  },
  {
   "cell_type": "markdown",
   "metadata": {},
   "source": [
    "## The approach is : We will find the mean lumen , mean hour worked , mean price and mean watt of the bulb from each place and then divide the hours worked by watt , which will give us the efficiency and if some efficiency are equal , we will jump to see the Price value"
   ]
  },
  {
   "cell_type": "markdown",
   "metadata": {},
   "source": [
    "## In short : If Mean Price is less , mean watt is more , mean lumen is more and mean hour is more : That is the preferred Country to choose !"
   ]
  },
  {
   "cell_type": "code",
   "execution_count": 145,
   "metadata": {},
   "outputs": [
    {
     "data": {
      "text/plain": [
       "<matplotlib.axes._subplots.AxesSubplot at 0x2209c0aa1c8>"
      ]
     },
     "execution_count": 145,
     "metadata": {},
     "output_type": "execute_result"
    },
    {
     "data": {
      "image/png": "[encoded data removed]",
      "text/plain": [
       "<Figure size 504x360 with 2 Axes>"
      ]
     },
     "metadata": {
      "needs_background": "light"
     },
     "output_type": "display_data"
    }
   ],
   "source": [
    "plt.figure(figsize = (7,5))\n",
    "sb.heatmap(df.corr() , annot = True)"
   ]
  },
  {
   "cell_type": "markdown",
   "metadata": {},
   "source": [
    "## As you can see , everything is related to each other perfectly "
   ]
  },
  {
   "cell_type": "code",
   "execution_count": 146,
   "metadata": {},
   "outputs": [
    {
     "data": {
      "image/png": "[encoded data removed]",
      "text/plain": [
       "<Figure size 900x900 with 30 Axes>"
      ]
     },
     "metadata": {
      "needs_background": "light"
     },
     "output_type": "display_data"
    }
   ],
   "source": [
    "sb.pairplot(df)\n",
    "plt.show()"
   ]
  },
  {
   "cell_type": "markdown",
   "metadata": {},
   "source": [
    "## Find mean watt , mean lumen  ,mean hour and mean price for that particular row !\n",
    "## Then divide mean hour worked by mean watt to get the efficiency"
   ]
  },
  {
   "cell_type": "code",
   "execution_count": 147,
   "metadata": {},
   "outputs": [
    {
     "data": {
      "text/plain": [
       "place of manufacture  watt  lumen  hours worked\n",
       "South Korea           200   3000   1986            190\n",
       "India                 200   3000   1792            190\n",
       "China                 200   3000   1922            190\n",
       "Japan                 200   3000   1760            160\n",
       "India                 200   3000   1809            160\n",
       "South Korea           200   3000   1580            160\n",
       "Japan                 200   3000   1532            160\n",
       "                                   1506            160\n",
       "China                 100   1500   1231            130\n",
       "Japan                 100   1500   1237            130\n",
       "                                   1157            130\n",
       "South Korea           100   1500   1039            130\n",
       "                                   1057            130\n",
       "                                   1492            130\n",
       "India                 100   1500   1106            130\n",
       "South Korea           50    750    812              95\n",
       "                                   815              95\n",
       "                                   863              95\n",
       "China                 50    750    903              95\n",
       "Japan                 50    750    933              95\n",
       "India                 50    750    968              95\n",
       "                                   885              95\n",
       "                                   789              95\n",
       "                                   711              70\n",
       "Japan                 50    750    969              70\n",
       "India                 50    750    763              70\n",
       "Japan                 50    750    943              70\n",
       "South Korea           50    750    801              70\n",
       "                                   895              70\n",
       "China                 50    750    746              70\n",
       "Name: price, dtype: int64"
      ]
     },
     "execution_count": 147,
     "metadata": {},
     "output_type": "execute_result"
    }
   ],
   "source": [
    "df.groupby(['place of manufacture' , 'watt' , 'lumen' , 'hours worked'])[\"price\"].mean().sort_values(ascending = False)"
   ]
  },
  {
   "cell_type": "code",
   "execution_count": 158,
   "metadata": {},
   "outputs": [
    {
     "name": "stdout",
     "output_type": "stream",
     "text": [
      "Values for INDIA\n",
      "\n",
      "Mean Watt : 120.0\n",
      "Mean Lumen : 1800.0\n",
      "Mean hour : 1287.6\n",
      "Mean price : 129.0\n",
      "Efficiency in % is : 10.729999999999999\n",
      "Lumency is 15.0\n",
      "Price for 1 watt 1.075\n"
     ]
    }
   ],
   "source": [
    "#INDIA\n",
    "\n",
    "mean_watt = (200 + 200 + 100 + 50 + 50) / 5\n",
    "mean_lumen = (3000 + 3000 + 1500 + 750 + 750) / 5\n",
    "mean_hours = (1792 + 1809 + 1106 + 968 + 763 ) / 5\n",
    "mean_price = (190 + 160 + 130 + 95+ 70) /5\n",
    "print(\"Values for INDIA\")\n",
    "print(\"\")\n",
    "print(\"Mean Watt :\",mean_watt)\n",
    "print(\"Mean Lumen :\",mean_lumen)\n",
    "print(\"Mean hour :\",mean_hours)\n",
    "print(\"Mean price :\",mean_price)\n",
    "print(\"Efficiency in % is :\" ,mean_hours / mean_watt )\n",
    "print(\"Lumency is\",mean_lumen / mean_watt)\n",
    "print(\"Price for 1 watt\",mean_price / mean_watt)\n",
    "\n"
   ]
  },
  {
   "cell_type": "code",
   "execution_count": 159,
   "metadata": {},
   "outputs": [
    {
     "name": "stdout",
     "output_type": "stream",
     "text": [
      "Values for SOUTH KOREA\n",
      "\n",
      "Mean Watt : 120.0\n",
      "Mean Lumen : 1800.0\n",
      "Mean hour : 1243.6\n",
      "Mean price : 129.0\n",
      "Efficiency in % is : 10.363333333333333\n",
      "Lumency is 15.0\n",
      "Price for 1 watt 1.075\n"
     ]
    }
   ],
   "source": [
    "#SOUTH KOREA\n",
    "\n",
    "mean_watt = (200+ 200 + 100 + 50 + 50) / 5\n",
    "mean_lumen = (3000 + 3000 + 1500 + 750 + 750) / 5\n",
    "mean_hours = (1986 + 1580 + 1039 + 812 + 801) / 5\n",
    "mean_price = (190 + 160 + 130 + 95 + 70) /5\n",
    "print(\"Values for SOUTH KOREA\")\n",
    "print(\"\")\n",
    "print(\"Mean Watt :\",mean_watt)\n",
    "print(\"Mean Lumen :\",mean_lumen)\n",
    "print(\"Mean hour :\",mean_hours)\n",
    "print(\"Mean price :\",mean_price)\n",
    "print(\"Efficiency in % is :\" ,mean_hours / mean_watt )\n",
    "print(\"Lumency is\",mean_lumen / mean_watt)\n",
    "print(\"Price for 1 watt\",mean_price / mean_watt)"
   ]
  },
  {
   "cell_type": "code",
   "execution_count": 160,
   "metadata": {},
   "outputs": [
    {
     "name": "stdout",
     "output_type": "stream",
     "text": [
      "Values for CHINA\n",
      "\n",
      "Mean Watt : 100.0\n",
      "Mean Lumen : 1500.0\n",
      "Mean hour : 1200.5\n",
      "Mean price : 121.25\n",
      "Efficiency in % is : 12.005\n",
      "Lumency is 15.0\n",
      "Price for 1 watt 1.2125\n"
     ]
    }
   ],
   "source": [
    "#CHINA\n",
    "\n",
    "mean_watt = (200 + 100 + 50 + 50) / 4\n",
    "mean_lumen = (3000 + 1500 + 750 + 750) / 4\n",
    "mean_hours = (903 + 746 + 1922 + 1231) / 4\n",
    "mean_price = (190  + 130 + 95+ 70) /4\n",
    "print(\"Values for CHINA\")\n",
    "print(\"\")\n",
    "print(\"Mean Watt :\",mean_watt)\n",
    "print(\"Mean Lumen :\",mean_lumen)\n",
    "print(\"Mean hour :\",mean_hours)\n",
    "print(\"Mean price :\",mean_price)\n",
    "print(\"Efficiency in % is :\" ,mean_hours / mean_watt )\n",
    "print(\"Lumency is\",mean_lumen / mean_watt)\n",
    "print(\"Price for 1 watt\",mean_price / mean_watt)"
   ]
  },
  {
   "cell_type": "code",
   "execution_count": 163,
   "metadata": {},
   "outputs": [
    {
     "name": "stdout",
     "output_type": "stream",
     "text": [
      "Values for JAPAN\n",
      "\n",
      "Mean Watt : 108.33333333333333\n",
      "Mean Lumen : 1625.0\n",
      "Mean hour : 1229.0\n",
      "Mean price : 114.16666666666667\n",
      "Efficiency in % is : 11.344615384615386\n",
      "Lumency is 15.0\n",
      "Price for 1 watt 1.0538461538461539\n"
     ]
    }
   ],
   "source": [
    "#JAPAN\n",
    "\n",
    "mean_watt = (200+ 200 + 100 + 50 + 50 + 50) / 6\n",
    "mean_lumen = (3000 + 3000 + 1500 + 750 + 750+ 750) / 6\n",
    "mean_hours = (1760 + 1532 + 1237 + 933 + 969 + 943) / 6\n",
    "mean_price = (160 + 160 + 130 + 95 + 70 + 70) /6\n",
    "print(\"Values for JAPAN\")\n",
    "print(\"\")\n",
    "print(\"Mean Watt :\",mean_watt)\n",
    "print(\"Mean Lumen :\",mean_lumen)\n",
    "print(\"Mean hour :\",mean_hours)\n",
    "print(\"Mean price :\",mean_price)\n",
    "print(\"Efficiency in % is :\" ,mean_hours / mean_watt )\n",
    "print(\"Lumency is\",mean_lumen / mean_watt)\n",
    "print(\"Price for 1 watt\",mean_price / mean_watt)"
   ]
  },
  {
   "cell_type": "markdown",
   "metadata": {},
   "source": [
    "## There is actually many thing to look now , before actually coming to a conclusion !"
   ]
  },
  {
   "cell_type": "markdown",
   "metadata": {},
   "source": [
    "## Since Efficiency of INDIA and SOUTH KOREA is less , we can rule them out !\n",
    "## Now the left ones are JAPAN and CHINA "
   ]
  },
  {
   "cell_type": "markdown",
   "metadata": {},
   "source": [
    "## Since , the Efficiency of Japan is 11.34 % and China is 12.005 % , China wins here !\n",
    "## but when having a look at \n",
    "## 1 : Mean Price : Japan mean price for the bulb is less than china \n",
    "## 2 : Price for 1 watt is less in japan than in China\n",
    "## 3 : Mean hour of life span of Japan Bulb is 1229 hr , 29 hr greater than China (1220 hr)\n",
    "## 4 : Mean Lumen is also higher in Japan , than in China \n",
    "    \n",
    "## So , looking at all these points JAPAN win this case , even though it is just 1 % behind china, Statistical approach and Generalised Answer matters more than just jumping to the conclusion from one direction is what is think ! "
   ]
  },
  {
   "cell_type": "markdown",
   "metadata": {},
   "source": [
    "## We can also say that mean watt of JAPAN is 108 and China is 100 , this makes all the difference !\n",
    "## But again applying the T-test and p-value , JAPAN wins !\n",
    "\n",
    "## Ans : Japan"
   ]
  },
  {
   "cell_type": "code",
   "execution_count": null,
   "metadata": {},
   "outputs": [],
   "source": []
  }
 ],
 "metadata": {
  "kernelspec": {
   "display_name": "Python 3",
   "language": "python",
   "name": "python3"
  },
  "language_info": {
   "codemirror_mode": {
    "name": "ipython",
    "version": 3
   },
   "file_extension": ".py",
   "mimetype": "text/x-python",
   "name": "python",
   "nbconvert_exporter": "python",
   "pygments_lexer": "ipython3",
   "version": "3.7.4"
  }
 },
 "nbformat": 4,
 "nbformat_minor": 2
}
